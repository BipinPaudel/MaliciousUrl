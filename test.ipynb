{
 "cells": [
  {
   "cell_type": "code",
   "execution_count": 34,
   "metadata": {
    "collapsed": true
   },
   "outputs": [],
   "source": [
    "import pandas as pd\n",
    "import numpy as np\n",
    "data=pd.read_csv('final1.csv',encoding=\"ISO-8859-1\", error_bad_lines=False)"
   ]
  },
  {
   "cell_type": "code",
   "execution_count": 35,
   "metadata": {
    "collapsed": true
   },
   "outputs": [],
   "source": [
    "allUrlsData=pd.DataFrame(data)\n",
    "allUrlsData=np.array(allUrlsData)\n",
    "corpus=[d[0] for d in allUrlsData]\n",
    "y=[d[3] for d in allUrlsData]"
   ]
  },
  {
   "cell_type": "code",
   "execution_count": 36,
   "metadata": {
    "collapsed": false
   },
   "outputs": [
    {
     "data": {
      "text/html": [
       "<div>\n",
       "<table border=\"1\" class=\"dataframe\">\n",
       "  <thead>\n",
       "    <tr style=\"text-align: right;\">\n",
       "      <th></th>\n",
       "      <th>url</th>\n",
       "      <th>ip</th>\n",
       "      <th>asn</th>\n",
       "      <th>y</th>\n",
       "    </tr>\n",
       "  </thead>\n",
       "  <tbody>\n",
       "    <tr>\n",
       "      <th>0</th>\n",
       "      <td>diaryofagameaddict.com</td>\n",
       "      <td>208.76.86.134</td>\n",
       "      <td>AS53292</td>\n",
       "      <td>bad</td>\n",
       "    </tr>\n",
       "    <tr>\n",
       "      <th>1</th>\n",
       "      <td>espdesign.com.au</td>\n",
       "      <td>184.106.55.19</td>\n",
       "      <td>None</td>\n",
       "      <td>bad</td>\n",
       "    </tr>\n",
       "    <tr>\n",
       "      <th>2</th>\n",
       "      <td>iamagameaddict.com</td>\n",
       "      <td>208.76.86.134</td>\n",
       "      <td>AS53292</td>\n",
       "      <td>bad</td>\n",
       "    </tr>\n",
       "    <tr>\n",
       "      <th>3</th>\n",
       "      <td>kalantzis.net</td>\n",
       "      <td>208.83.210.7</td>\n",
       "      <td>AS20161</td>\n",
       "      <td>bad</td>\n",
       "    </tr>\n",
       "    <tr>\n",
       "      <th>4</th>\n",
       "      <td>slightlyoffcenter.net</td>\n",
       "      <td>208.76.80.77</td>\n",
       "      <td>AS53292</td>\n",
       "      <td>bad</td>\n",
       "    </tr>\n",
       "  </tbody>\n",
       "</table>\n",
       "</div>"
      ],
      "text/plain": [
       "                      url             ip      asn    y\n",
       "0  diaryofagameaddict.com  208.76.86.134  AS53292  bad\n",
       "1        espdesign.com.au  184.106.55.19     None  bad\n",
       "2      iamagameaddict.com  208.76.86.134  AS53292  bad\n",
       "3           kalantzis.net   208.83.210.7  AS20161  bad\n",
       "4   slightlyoffcenter.net   208.76.80.77  AS53292  bad"
      ]
     },
     "execution_count": 36,
     "metadata": {},
     "output_type": "execute_result"
    }
   ],
   "source": [
    "data.head()\n"
   ]
  },
  {
   "cell_type": "code",
   "execution_count": 37,
   "metadata": {
    "collapsed": false
   },
   "outputs": [
    {
     "name": "stdout",
     "output_type": "stream",
     "text": [
      "57572\n",
      "57572\n",
      "42767\n",
      "14805\n",
      "57572\n"
     ]
    }
   ],
   "source": [
    "print(len(y))\n",
    "print(len(corpus))\n",
    "temp1=data.loc[data['y']=='bad']\n",
    "print(len(temp1))\n",
    "temp2=data.loc[data['y']=='good']\n",
    "print(len(temp2))\n",
    "print(len(temp1)+len(temp2))"
   ]
  },
  {
   "cell_type": "code",
   "execution_count": 51,
   "metadata": {
    "collapsed": false
   },
   "outputs": [],
   "source": [
    "data1=pd.read_csv('featureCorpus.csv',encoding=\"ISO-8859-1\", error_bad_lines=False)    "
   ]
  },
  {
   "cell_type": "code",
   "execution_count": 94,
   "metadata": {
    "collapsed": false
   },
   "outputs": [
    {
     "data": {
      "text/html": [
       "<div>\n",
       "<table border=\"1\" class=\"dataframe\">\n",
       "  <thead>\n",
       "    <tr style=\"text-align: right;\">\n",
       "      <th></th>\n",
       "      <th>y</th>\n",
       "      <th>1</th>\n",
       "      <th>2</th>\n",
       "      <th>3</th>\n",
       "      <th>4</th>\n",
       "      <th>5</th>\n",
       "      <th>6</th>\n",
       "      <th>7</th>\n",
       "      <th>8</th>\n",
       "      <th>9</th>\n",
       "      <th>...</th>\n",
       "      <th>49</th>\n",
       "      <th>50</th>\n",
       "      <th>51</th>\n",
       "      <th>52</th>\n",
       "      <th>53</th>\n",
       "      <th>54</th>\n",
       "      <th>55</th>\n",
       "      <th>56</th>\n",
       "      <th>57</th>\n",
       "      <th>58</th>\n",
       "    </tr>\n",
       "  </thead>\n",
       "  <tbody>\n",
       "    <tr>\n",
       "      <th>9117</th>\n",
       "      <td>0</td>\n",
       "      <td>45</td>\n",
       "      <td>15</td>\n",
       "      <td>5</td>\n",
       "      <td>0</td>\n",
       "      <td>23</td>\n",
       "      <td>12</td>\n",
       "      <td>2</td>\n",
       "      <td>12</td>\n",
       "      <td>7</td>\n",
       "      <td>...</td>\n",
       "      <td>0</td>\n",
       "      <td>0</td>\n",
       "      <td>0</td>\n",
       "      <td>0</td>\n",
       "      <td>0</td>\n",
       "      <td>0</td>\n",
       "      <td>0</td>\n",
       "      <td>0</td>\n",
       "      <td>0</td>\n",
       "      <td>0</td>\n",
       "    </tr>\n",
       "    <tr>\n",
       "      <th>20110</th>\n",
       "      <td>0</td>\n",
       "      <td>49</td>\n",
       "      <td>34</td>\n",
       "      <td>6</td>\n",
       "      <td>0</td>\n",
       "      <td>8</td>\n",
       "      <td>12</td>\n",
       "      <td>20</td>\n",
       "      <td>17</td>\n",
       "      <td>6</td>\n",
       "      <td>...</td>\n",
       "      <td>0</td>\n",
       "      <td>0</td>\n",
       "      <td>0</td>\n",
       "      <td>0</td>\n",
       "      <td>0</td>\n",
       "      <td>0</td>\n",
       "      <td>0</td>\n",
       "      <td>0</td>\n",
       "      <td>0</td>\n",
       "      <td>0</td>\n",
       "    </tr>\n",
       "    <tr>\n",
       "      <th>9725</th>\n",
       "      <td>0</td>\n",
       "      <td>60</td>\n",
       "      <td>12</td>\n",
       "      <td>8</td>\n",
       "      <td>0</td>\n",
       "      <td>41</td>\n",
       "      <td>5</td>\n",
       "      <td>5</td>\n",
       "      <td>5</td>\n",
       "      <td>12</td>\n",
       "      <td>...</td>\n",
       "      <td>0</td>\n",
       "      <td>0</td>\n",
       "      <td>0</td>\n",
       "      <td>0</td>\n",
       "      <td>0</td>\n",
       "      <td>0</td>\n",
       "      <td>0</td>\n",
       "      <td>0</td>\n",
       "      <td>0</td>\n",
       "      <td>0</td>\n",
       "    </tr>\n",
       "    <tr>\n",
       "      <th>52349</th>\n",
       "      <td>1</td>\n",
       "      <td>36</td>\n",
       "      <td>28</td>\n",
       "      <td>0</td>\n",
       "      <td>0</td>\n",
       "      <td>1</td>\n",
       "      <td>24</td>\n",
       "      <td>3</td>\n",
       "      <td>24</td>\n",
       "      <td>0</td>\n",
       "      <td>...</td>\n",
       "      <td>0</td>\n",
       "      <td>0</td>\n",
       "      <td>0</td>\n",
       "      <td>0</td>\n",
       "      <td>0</td>\n",
       "      <td>0</td>\n",
       "      <td>0</td>\n",
       "      <td>0</td>\n",
       "      <td>0</td>\n",
       "      <td>0</td>\n",
       "    </tr>\n",
       "    <tr>\n",
       "      <th>38922</th>\n",
       "      <td>0</td>\n",
       "      <td>55</td>\n",
       "      <td>12</td>\n",
       "      <td>7</td>\n",
       "      <td>0</td>\n",
       "      <td>36</td>\n",
       "      <td>9</td>\n",
       "      <td>2</td>\n",
       "      <td>9</td>\n",
       "      <td>7</td>\n",
       "      <td>...</td>\n",
       "      <td>0</td>\n",
       "      <td>0</td>\n",
       "      <td>0</td>\n",
       "      <td>0</td>\n",
       "      <td>0</td>\n",
       "      <td>0</td>\n",
       "      <td>0</td>\n",
       "      <td>0</td>\n",
       "      <td>0</td>\n",
       "      <td>0</td>\n",
       "    </tr>\n",
       "  </tbody>\n",
       "</table>\n",
       "<p>5 rows × 59 columns</p>\n",
       "</div>"
      ],
      "text/plain": [
       "       y   1   2  3  4   5   6   7   8   9 ...  49  50  51  52  53  54  55  \\\n",
       "9117   0  45  15  5  0  23  12   2  12   7 ...   0   0   0   0   0   0   0   \n",
       "20110  0  49  34  6  0   8  12  20  17   6 ...   0   0   0   0   0   0   0   \n",
       "9725   0  60  12  8  0  41   5   5   5  12 ...   0   0   0   0   0   0   0   \n",
       "52349  1  36  28  0  0   1  24   3  24   0 ...   0   0   0   0   0   0   0   \n",
       "38922  0  55  12  7  0  36   9   2   9   7 ...   0   0   0   0   0   0   0   \n",
       "\n",
       "       56  57  58  \n",
       "9117    0   0   0  \n",
       "20110   0   0   0  \n",
       "9725    0   0   0  \n",
       "52349   0   0   0  \n",
       "38922   0   0   0  \n",
       "\n",
       "[5 rows x 59 columns]"
      ]
     },
     "execution_count": 94,
     "metadata": {},
     "output_type": "execute_result"
    }
   ],
   "source": [
    "data1.head()\n",
    "#data1=data1.sample(frac=1)"
   ]
  },
  {
   "cell_type": "code",
   "execution_count": 95,
   "metadata": {
    "collapsed": false
   },
   "outputs": [],
   "source": [
    "y=data1['y']\n",
    "X=[]\n",
    "allUrlsData=pd.DataFrame(data1)\n",
    "allUrlsData=np.array(allUrlsData)\n",
    "for ab in allUrlsData:\n",
    "    X.append(ab[1:])"
   ]
  },
  {
   "cell_type": "code",
   "execution_count": 96,
   "metadata": {
    "collapsed": false
   },
   "outputs": [],
   "source": [
    "from sklearn.model_selection import train_test_split\n",
    "X_train, X_test, y_train, y_test = train_test_split(X, y)"
   ]
  },
  {
   "cell_type": "code",
   "execution_count": 97,
   "metadata": {
    "collapsed": false
   },
   "outputs": [
    {
     "data": {
      "text/plain": [
       "StandardScaler(copy=True, with_mean=True, with_std=True)"
      ]
     },
     "execution_count": 97,
     "metadata": {},
     "output_type": "execute_result"
    }
   ],
   "source": [
    "from sklearn.preprocessing import StandardScaler\n",
    "scaler = StandardScaler()\n",
    "# Fit only to the training data\n",
    "scaler.fit(X_train)"
   ]
  },
  {
   "cell_type": "code",
   "execution_count": 98,
   "metadata": {
    "collapsed": false
   },
   "outputs": [],
   "source": [
    "# Now apply the transformations to the data:\n",
    "X_train = scaler.transform(X_train)\n",
    "X_test = scaler.transform(X_test)"
   ]
  },
  {
   "cell_type": "code",
   "execution_count": 99,
   "metadata": {
    "collapsed": false
   },
   "outputs": [],
   "source": [
    "\n",
    "from sklearn.neural_network import MLPClassifier"
   ]
  },
  {
   "cell_type": "code",
   "execution_count": 110,
   "metadata": {
    "collapsed": true
   },
   "outputs": [],
   "source": [
    "mlp = MLPClassifier(hidden_layer_sizes=(58,25,2))"
   ]
  },
  {
   "cell_type": "code",
   "execution_count": 112,
   "metadata": {
    "collapsed": false
   },
   "outputs": [
    {
     "name": "stdout",
     "output_type": "stream",
     "text": [
      "[[10375   331]\n",
      " [  496  3191]]\n",
      "             precision    recall  f1-score   support\n",
      "\n",
      "          0       0.95      0.97      0.96     10706\n",
      "          1       0.91      0.87      0.89      3687\n",
      "\n",
      "avg / total       0.94      0.94      0.94     14393\n",
      "\n",
      "[0 0 0 1 1 1]\n"
     ]
    }
   ],
   "source": [
    "mlp.fit(X_train,y_train)\n",
    "predictions = mlp.predict(X_test)\n",
    "from sklearn.metrics import classification_report,confusion_matrix\n",
    "print(confusion_matrix(y_test,predictions))\n",
    "print(classification_report(y_test,predictions))\n",
    "\n",
    "#'pakistanifacebookforever.com/getpassword.php/'\n",
    "test=[52, 28, 15, 0, 17, 24, 3, 24, 11, 0, 24, 0, 0, 0, 0, 0, 0, 2, 0, 0, 0, 0, 45, 45, 0, 27, 27, 0, 7, 2, 4, 4, 7, 2, 1, 0.40540540540540543, 12.0, 0.21428571428571427, 1.0, 0.022222222222222223, 0.037037037037037035, 0.07142857142857142, 0.07142857142857142, 6.571428571428571, 13.5, 3.5, 0.0, 0, 0, 0, 0, 0, 0, 0, 0, 0, 0, 0]\n",
    "test1=[24, 17, 0, 0, 0, 13, 3, 13, 0, 0, 13, 0, 0, 0, 0, 0, 0, 1, 0, 0, 0, 0, 20, 20, 0, 16, 16, 0, 4, 2, 1, 1, 4, 0, 1, 0.3333333333333333, 6.0, 1.0, 1.0, 0.05, 0.0625, 1.0, 1.0, 5.25, 8.0, 0.0, 0.0, 0, 0, 0, 0, 0, 0, 0, 0, 0, 0, 0]\n",
    "#'example_me.com/random/folder/path.html?a_b=234&b=456'\n",
    "test2=[59, 14, 6, 13, 24, 10, 3, 7, 6, 5, 7, 0, 0, 2, 1, 0, 1, 2, 2, 0, 6, 0, 39, 39, 0, 12, 12, 0, 13, 3, 5, 5, 14, 3, 2, 0.22916666666666666, 5.0, 0.2631578947368421, 0.08333333333333333, 0.15384615384615385, 0.08333333333333333, 0.05, 0.3, 3.6153846153846154, 4.0, 4.0, 2.5, 0, 0, 0, 0, 0, 0, 0, 0, 0, 0, 0]\n",
    "#'thelacunablog.com'\n",
    "test3=[24, 17, 0, 0, 0, 13, 3, 13, 0, 0, 13, 0, 0, 0, 0, 0, 0, 1, 0, 0, 0, 0, 20, 20, 0, 16, 16, 0, 4, 2, 1, 1, 4, 0, 1, 0.3333333333333333, 6.0, 1.0, 1.0, 0.05, 0.0625, 1.0, 1.0, 5.25, 8.0, 0.0, 0.0, 0, 0, 0, 0, 0, 0, 0, 0, 0, 0, 0]\n",
    "#https://venturebeat.com/2016/08/16/facebook-will-waive-fees-for-account-kit-sms-confirmation-messages-through-august-2018/\n",
    "test4=[122, 15, 4, 0, 99, 11, 3, 11, 86, 0, 86, 12, 0, 0, 0, 0, 0, 1, 0, 0, 12, 0, 89, 89, 0, 14, 14, 0, 9, 2, 6, 6, 21, 5, 1, 0.38636363636363635, 6.0, 0.39436619718309857, 1.0, 0.1348314606741573, 0.07142857142857142, 0.17142857142857143, 0.014285714285714285, 12.666666666666666, 7.0, 15.666666666666666, 0.0, 0, 0, 1, 0, 0, 0, 0, 0, 0, 0, 0]\n",
    "#belgravesoundandlight.com/\n",
    "test5=[33, 25, 0, 0, 1, 21, 3, 21, 0, 0, 21, 0, 0, 0, 0, 0, 0, 1, 0, 0, 0, 0, 28, 28, 0, 24, 24, 0, 5, 2, 2, 2, 5, 1, 1, 0.32, 8.0, 1.0, 1.0, 0.03571428571428571, 0.041666666666666664, 1.0, 1.0, 5.8, 12.0, 0.0, 0.0, 0, 0, 0, 0, 0, 0, 0, 0, 0, 0, 0]\n",
    "#bioguide.congress.gov/scripts/bibdisplay.pl?index=P000003\n",
    "test6=[64, 21, 7, 13, 22, 8, 11, 8, 10, 6, 10, 0, 0, 0, 0, 0, 1, 3, 1, 0, 6, 0, 48, 47, 1, 19, 19, 0, 11, 3, 4, 4, 10, 2, 1, 0.28, 8.0, 0.2222222222222222, 0.18181818181818182, 0.125, 0.05263157894736842, 0.05263157894736842, 0.3157894736842105, 4.909090909090909, 6.333333333333333, 4.75, 3.6666666666666665, 0, 0, 0, 0, 0, 0, 0, 0, 0, 0, 0]\n",
    "X_predict=[test,test2,test3,test4,test5,test6]\n",
    "X_predict = scaler.transform(X_predict)\n",
    "y_Predict = mlp.predict(X_predict)\n",
    "print(y_Predict)"
   ]
  },
  {
   "cell_type": "markdown",
   "metadata": {},
   "source": [
    "## 'thelacunablog.com'\n",
    "test1=[24, 17, 0, 0, 0, 13, 3, 13, 0, 0, 13, 0, 0, 0, 0, 0, 0, 1, 0, 0, 0, 0, 20, 20, 0, 16, 16, 0, 4, 2, 1, 1, 4, 0, 1, 0.3333333333333333, 6.0, 1.0, 1.0, 0.05, 0.0625, 1.0, 1.0, 5.25, 8.0, 0.0, 0.0, 0, 0, 0, 0, 0, 0, 0, 0, 0, 0, 0]\n",
    "#'google.com/search=faizanahad'\n",
    "test2=[35, 10, 17, 0, 18, 6, 3, 6, 10, 0, 10, 0, 0, 0, 0, 0, 0, 1, 1, 0, 0, 0, 29, 29, 0, 9, 9, 0, 6, 2, 3, 3, 6, 1, 1, 0.4583333333333333, 4.0, 0.6363636363636364, 1.0, 0.034482758620689655, 0.1111111111111111, 0.0625, 0.0625, 5.0, 4.5, 5.333333333333333, 0.0, 0, 0, 0, 0, 0, 0, 0, 0, 0, 0, 0]\n",
    "\n",
    "X_predict=[test2]\n",
    "# X_predict = vectorizer.transform(X_predict)\n",
    "y_Predict = mlp.predict(X_predict)\n",
    "print(y_Predict)\n",
    "print(len(test2))"
   ]
  },
  {
   "cell_type": "code",
   "execution_count": null,
   "metadata": {
    "collapsed": true
   },
   "outputs": [],
   "source": []
  }
 ],
 "metadata": {
  "anaconda-cloud": {},
  "kernelspec": {
   "display_name": "Python [default]",
   "language": "python",
   "name": "python3"
  },
  "language_info": {
   "codemirror_mode": {
    "name": "ipython",
    "version": 3
   },
   "file_extension": ".py",
   "mimetype": "text/x-python",
   "name": "python",
   "nbconvert_exporter": "python",
   "pygments_lexer": "ipython3",
   "version": "3.5.2"
  }
 },
 "nbformat": 4,
 "nbformat_minor": 2
}
